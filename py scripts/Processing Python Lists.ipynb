{
 "cells": [
  {
   "cell_type": "markdown",
   "metadata": {},
   "source": [
    "* Processing Python Lists :\n",
    "\n",
    "Let's see how to process data in python lists using functions such as filter , map , sorted etc . \n",
    "We can also use list comprehension as alternative to map .\n",
    "\n",
    "* Create Python list of string . \n",
    "* Filter for COMPLETE Orders\n",
    "* Get unique statuses (use map and set)\n",
    "* Sort the data based on order customer id "
   ]
  },
  {
   "cell_type": "code",
   "execution_count": 11,
   "metadata": {},
   "outputs": [],
   "source": [
    "orders = ['1,2013-07-25 00:00:00.0,11599,CLOSED',\n",
    "'2,2013-07-25 00:00:00.0,256,PENDING_PAYMENT',\n",
    "'3,2013-07-25 00:00:00.0,12111,COMPLETE',\n",
    "'4,2013-07-25 00:00:00.0,8827,CLOSED',\n",
    "'5,2013-07-25 00:00:00.0,11318,COMPLETE',\n",
    "'6,2013-07-25 00:00:00.0,7130,COMPLETE',\n",
    "'7,2013-07-25 00:00:00.0,4530,COMPLETE',\n",
    "'8,2013-07-25 00:00:00.0,2911,PROCESSING',\n",
    "'9,2013-07-25 00:00:00.0,5657,PENDING_PAYMENT',\n",
    "'10,2013-07-25 00:00:00.0,5648,PENDING_PAYMENT',\n",
    "'11,2013-07-25 00:00:00.0,918,PAYMENT_REVIEW',\n",
    "'12,2013-07-25 00:00:00.0,1837,CLOSED',\n",
    "'13,2013-07-25 00:00:00.0,9149,PENDING_PAYMENT',\n",
    "'14,2013-07-25 00:00:00.0,9842,PROCESSING',\n",
    "'15,2013-07-25 00:00:00.0,2568,COMPLETE',\n",
    "'16,2013-07-25 00:00:00.0,7276,PENDING_PAYMENT',\n",
    "'17,2013-07-25 00:00:00.0,2667,COMPLETE',\n",
    "'18,2013-07-25 00:00:00.0,1205,CLOSED',\n",
    "'19,2013-07-25 00:00:00.0,9488,PENDING_PAYMENT',\n",
    "'20,2013-07-25 00:00:00.0,9198,PROCESSING']"
   ]
  },
  {
   "cell_type": "code",
   "execution_count": null,
   "metadata": {},
   "outputs": [],
   "source": [
    "len(orders)"
   ]
  },
  {
   "cell_type": "code",
   "execution_count": 13,
   "metadata": {},
   "outputs": [],
   "source": [
    "#DEFINED FUNCTION\n",
    "def sumN(n):\n",
    "    return n*(n+1)/2"
   ]
  },
  {
   "cell_type": "code",
   "execution_count": null,
   "metadata": {},
   "outputs": [],
   "source": [
    "list = [1,2,3,4]\n",
    "for i in list:\n",
    "    print(sumN(i))"
   ]
  },
  {
   "cell_type": "code",
   "execution_count": null,
   "metadata": {},
   "outputs": [],
   "source": [
    "sumNLambda = lambda n: n*(n+1)/2\n",
    "sumNLambda(5)"
   ]
  }
 ],
 "metadata": {
  "kernelspec": {
   "display_name": "Python 3",
   "language": "python",
   "name": "python3"
  },
  "language_info": {
   "codemirror_mode": {
    "name": "ipython",
    "version": 3
   },
   "file_extension": ".py",
   "mimetype": "text/x-python",
   "name": "python",
   "nbconvert_exporter": "python",
   "pygments_lexer": "ipython3",
   "version": "3.13.1"
  }
 },
 "nbformat": 4,
 "nbformat_minor": 2
}
